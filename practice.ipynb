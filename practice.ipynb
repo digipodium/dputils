{
 "cells": [
  {
   "cell_type": "code",
   "execution_count": 6,
   "metadata": {},
   "outputs": [
    {
     "data": {
      "text/plain": [
       "'MIT License\\n\\nCopyright (c) 2022 AkulS1008\\n\\nPermission is hereby granted, free of charge, to any person obtaining a copy\\nof this software and associated documentation files (the \"Software\"), to deal\\nin the Software without restriction, including without limitation the rights\\nto use, copy, modify, merge, publish, distribute, sublicense, and/or sell\\ncopies of the Software, and to permit persons to whom the Software is\\nfurnished to do so, subject to the following conditions:\\n\\nThe above copyright notice and this permission notice shall be included in all\\ncopies or substantial portions of the Software.\\n\\nTHE SOFTWARE IS PROVIDED \"AS IS\", WITHOUT WARRANTY OF ANY KIND, EXPRESS OR\\nIMPLIED, INCLUDING BUT NOT LIMITED TO THE WARRANTIES OF MERCHANTABILITY,\\nFITNESS FOR A PARTICULAR PURPOSE AND NONINFRINGEMENT. IN NO EVENT SHALL THE\\nAUTHORS OR COPYRIGHT HOLDERS BE LIABLE FOR ANY CLAIM, DAMAGES OR OTHER\\nLIABILITY, WHETHER IN AN ACTION OF CONTRACT, TORT OR OTHERWISE, ARISING FROM,\\nOUT OF OR IN CONNECTION WITH THE SOFTWARE OR THE USE OR OTHER DEALINGS IN THE\\nSOFTWARE.\\n'"
      ]
     },
     "execution_count": 6,
     "metadata": {},
     "output_type": "execute_result"
    }
   ],
   "source": [
    "import os\n",
    "\n",
    "def file_read(fpath = r\"LICENSE\"):\n",
    "    if not os.path.exists(fpath):\n",
    "        print(\"File not found\")\n",
    "        return None\n",
    "    if not os.path.isfile(fpath):\n",
    "        print(\"Not a file\")\n",
    "        return None\n",
    "    with open(fpath) as file:\n",
    "        c = file.read()\n",
    "        return c\n",
    "file_read()"
   ]
  },
  {
   "cell_type": "code",
   "execution_count": null,
   "metadata": {},
   "outputs": [],
   "source": [
    "import requests #used to collect the page from the web\n",
    "from bs4 import BeautifulSoup\n",
    "from fake_useragent import UserAgent"
   ]
  },
  {
   "cell_type": "code",
   "execution_count": 1,
   "metadata": {},
   "outputs": [
    {
     "ename": "NameError",
     "evalue": "name 'UserAgent' is not defined",
     "output_type": "error",
     "traceback": [
      "\u001b[0;31m---------------------------------------------------------------------------\u001b[0m",
      "\u001b[0;31mNameError\u001b[0m                                 Traceback (most recent call last)",
      "\u001b[1;32m/Users/akulsingh/Desktop/Internship/practice.ipynb Cell 3'\u001b[0m in \u001b[0;36m<cell line: 2>\u001b[0;34m()\u001b[0m\n\u001b[1;32m      <a href='vscode-notebook-cell:/Users/akulsingh/Desktop/Internship/practice.ipynb#ch0000002?line=0'>1</a>\u001b[0m url \u001b[39m=\u001b[39m \u001b[39m\"\u001b[39m\u001b[39mhttps://python-poetry.org/docs/basic-usage/\u001b[39m\u001b[39m\"\u001b[39m\n\u001b[0;32m----> <a href='vscode-notebook-cell:/Users/akulsingh/Desktop/Internship/practice.ipynb#ch0000002?line=1'>2</a>\u001b[0m ua \u001b[39m=\u001b[39m UserAgent()\n\u001b[1;32m      <a href='vscode-notebook-cell:/Users/akulsingh/Desktop/Internship/practice.ipynb#ch0000002?line=2'>3</a>\u001b[0m headers \u001b[39m=\u001b[39m {\u001b[39m'\u001b[39m\u001b[39mUser-Agent\u001b[39m\u001b[39m'\u001b[39m : ua[\u001b[39m'\u001b[39m\u001b[39mgoogle chrome\u001b[39m\u001b[39m'\u001b[39m]}\n\u001b[1;32m      <a href='vscode-notebook-cell:/Users/akulsingh/Desktop/Internship/practice.ipynb#ch0000002?line=4'>5</a>\u001b[0m page \u001b[39m=\u001b[39m requests\u001b[39m.\u001b[39mget(url, headers \u001b[39m=\u001b[39m headers)\n",
      "\u001b[0;31mNameError\u001b[0m: name 'UserAgent' is not defined"
     ]
    }
   ],
   "source": [
    "url = \"https://python-poetry.org/docs/basic-usage/\"\n",
    "ua = UserAgent()\n",
    "headers = {'User-Agent' : ua.random}\n",
    "page = requests.get(url, headers = headers, cookies = {\"session-id\" : \"\", \"session-id-time\" : \"\", \"session-token\" : \"\"})\n",
    "print(page)\n",
    "if page.status_code == 404:\n",
    "    print(\"Page not found\")\n",
    "elif page.status_code == 503:\n",
    "    print(\"Page unavailable\")\n",
    "elif page.status_code == 200:\n",
    "    print(\"Page found\")\n",
    "    soup = BeautifulSoup(page.content, 'html.parser')\n",
    "    print(soup)"
   ]
  },
  {
   "cell_type": "code",
   "execution_count": null,
   "metadata": {},
   "outputs": [],
   "source": [
    "requests.get()"
   ]
  },
  {
   "cell_type": "code",
   "execution_count": 8,
   "metadata": {},
   "outputs": [],
   "source": [
    "from fpdf import FPDF\n",
    "\n",
    "pdf = FPDF()\n",
    "pdf.add_page()\n",
    "pdf.set_font('helvetica', size =12)\n",
    "pdf.cell(txt=\"Sample text\")\n",
    "pdf.output(\"sample.pdf\")"
   ]
  },
  {
   "cell_type": "code",
   "execution_count": null,
   "metadata": {},
   "outputs": [],
   "source": [
    "\"\"\"\n",
    "    soup = get_webpage_data(url)\n",
    "    if isinstance(soup, BeautifulSoup):\n",
    "        print('item can be used')\n",
    "    else:\n",
    "        print('error')\n",
    "    if output == 'text':\n",
    "        soup.find(tag, attrs = attribute_dict).text.strip()\n",
    "    if output == 'href':\n",
    "        soup.find(tag, attrs = attribute_dict).attrs.get('href')\n",
    "\"\"\"\n"
   ]
  }
 ],
 "metadata": {
  "interpreter": {
   "hash": "12c474f0c101339e553446c59ed724afd66b3d962f47665a24b144af75695b9b"
  },
  "kernelspec": {
   "display_name": "Python 3.9.12 ('.venv': poetry)",
   "language": "python",
   "name": "python3"
  },
  "language_info": {
   "codemirror_mode": {
    "name": "ipython",
    "version": 3
   },
   "file_extension": ".py",
   "mimetype": "text/x-python",
   "name": "python",
   "nbconvert_exporter": "python",
   "pygments_lexer": "ipython3",
   "version": "3.9.12"
  },
  "orig_nbformat": 4
 },
 "nbformat": 4,
 "nbformat_minor": 2
}
